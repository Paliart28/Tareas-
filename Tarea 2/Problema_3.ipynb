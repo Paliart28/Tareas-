{
  "nbformat": 4,
  "nbformat_minor": 0,
  "metadata": {
    "colab": {
      "provenance": []
    },
    "kernelspec": {
      "name": "python3",
      "display_name": "Python 3"
    },
    "language_info": {
      "name": "python"
    }
  },
  "cells": [
    {
      "cell_type": "markdown",
      "source": [
        "Problema 3.\n",
        "Pseudocódigo, sumador y comparador de dos números Realiza el algoritmo para un sumador de dos números. Si el resultado es menor a 200 se mostrará el mensaje \"menor a 200\", si el resultado es mayor a 200, pero menor a 250 se mostrará el mensaje \"mayor a 200\", pero si es mayor a 250 se mostrará el mensaje \"mayor a 250\".\n"
      ],
      "metadata": {
        "id": "V6vl0Oaz3DBp"
      }
    },
    {
      "cell_type": "code",
      "execution_count": null,
      "metadata": {
        "id": "ykmUYYzPJg2T"
      },
      "outputs": [],
      "source": [
        "# Problema 3\n",
        "# Programa que suma dos números y muestra mensajes según el resultado\n",
        "\n",
        "# Entrada de datos\n",
        "numero1 = float(input(\"Ingrese el primer número: \"))\n",
        "numero2 = float(input(\"Ingrese el segundo número: \"))\n",
        "\n",
        "# Proceso: sumamos ambos números\n",
        "suma = numero1 + numero2\n",
        "\n",
        "# Condicionales\n",
        "if suma < 200:\n",
        "    resultado = \"menor a 200\"\n",
        "elif 200 < suma < 250:\n",
        "    resultado = \"mayor a 200 y menor a 250\"\n",
        "else:\n",
        "    resultado = \"mayor a 250\"\n",
        "\n",
        "# Salida\n",
        "print(f\"La suma es {suma}, y el resultado es: {resultado}\")"
      ]
    }
  ]
}