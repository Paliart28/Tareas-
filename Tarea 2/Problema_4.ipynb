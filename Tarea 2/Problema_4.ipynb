{
  "nbformat": 4,
  "nbformat_minor": 0,
  "metadata": {
    "colab": {
      "provenance": []
    },
    "kernelspec": {
      "name": "python3",
      "display_name": "Python 3"
    },
    "language_info": {
      "name": "python"
    }
  },
  "cells": [
    {
      "cell_type": "markdown",
      "source": [
        "Problema 4. Pseudocódigo, Calculador de perfil\n",
        "Generar un programa que combine variables, tipos de datos y una condicional en Python (hacer una función que evalúe si el usuario es mayor de edad y si le gusta la música urbana, que envíe diferentes textos según la respuesta del usuario)\n"
      ],
      "metadata": {
        "id": "V6vl0Oaz3DBp"
      }
    },
    {
      "cell_type": "code",
      "execution_count": null,
      "metadata": {
        "id": "ykmUYYzPJg2T"
      },
      "outputs": [],
      "source": [
        "# Problema 4\n",
        "# Calculador de perfil según edad y preferencia musical\n",
        "\n",
        "def perfil_usuario(edad, gusta_musica_urbana):\n",
        "    if edad > 18 and gusta_musica_urbana:\n",
        "        return \"Eres mayor de edad y te gusta la música urbana\"\n",
        "    else:\n",
        "        return \"No eres mayor de edad o no te gusta la música urbana\"\n",
        "\n",
        "# Entrada de datos\n",
        "edad = int(input(\"Ingrese su edad: \"))\n",
        "gusta = input(\"¿Te gusta la música urbana? (si/no): \")\n",
        "\n",
        "# Transformamos la respuesta en booleano\n",
        "gusta_musica_urbana = (gusta == \"si\")\n",
        "\n",
        "# Resultado\n",
        "print(perfil_usuario(edad, gusta_musica_urbana))"
      ]
    }
  ]
}